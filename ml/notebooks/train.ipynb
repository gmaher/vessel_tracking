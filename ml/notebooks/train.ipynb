{
 "cells": [
  {
   "cell_type": "code",
   "execution_count": 1,
   "metadata": {},
   "outputs": [],
   "source": [
    "import os\n",
    "import sys\n",
    "sys.path.append(os.path.abspath('..'))\n",
    "\n",
    "from modules import io\n",
    "from modules import vascular_data as sv"
   ]
  },
  {
   "cell_type": "code",
   "execution_count": 3,
   "metadata": {},
   "outputs": [
    {
     "name": "stdout",
     "output_type": "stream",
     "text": [
      "['/media/marsdenlab/Data2/datasets/vessel_tracking/OSMSC0080/positive/0', '/media/marsdenlab/Data2/datasets/vessel_tracking/OSMSC0080/positive/1']\n"
     ]
    }
   ],
   "source": [
    "g_cfg_fn   = \"../config/global.yaml\"\n",
    "c_cfg_fn   = \"../config/fcnet_svd_mr.yaml\"\n",
    "\n",
    "global_config = io.load_yaml(g_cfg_fn)\n",
    "#case_config   = io.load_yaml(c_cfg_fn)\n",
    "\n",
    "FILES         = io.read_lines(global_config['FILES'])\n",
    "print(FILES[:2])"
   ]
  },
  {
   "cell_type": "code",
   "execution_count": null,
   "metadata": {},
   "outputs": [],
   "source": []
  }
 ],
 "metadata": {
  "kernelspec": {
   "display_name": "Python 3",
   "language": "python",
   "name": "python3"
  },
  "language_info": {
   "codemirror_mode": {
    "name": "ipython",
    "version": 3
   },
   "file_extension": ".py",
   "mimetype": "text/x-python",
   "name": "python",
   "nbconvert_exporter": "python",
   "pygments_lexer": "ipython3",
   "version": "3.6.5"
  }
 },
 "nbformat": 4,
 "nbformat_minor": 2
}
