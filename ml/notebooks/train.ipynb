{
 "cells": [
  {
   "cell_type": "code",
   "execution_count": 1,
   "metadata": {},
   "outputs": [],
   "source": [
    "import os\n",
    "import sys\n",
    "sys.path.append(os.path.abspath('..'))\n",
    "\n",
    "from modules import io\n",
    "from modules import vascular_data as sv"
   ]
  },
  {
   "cell_type": "code",
   "execution_count": null,
   "metadata": {},
   "outputs": [],
   "source": [
    "g_cfg_fn   = \"./config/global.yaml\"\n",
    "c_cfg_fn   = \"./config/fcnet_svd_mr.yaml\"\n",
    "\n",
    "global_config = load_yaml(g_cfg_fn)\n",
    "case_config   = load_yaml(c_cfg_fn)\n",
    "\n",
    "FILES         = read_lines(case_config['FILE_LIST'])\n",
    "print(FILES[:2])\n",
    "\n",
    "train_id_list = [i for i in FILES if any([c in i for c in case_config['TRAIN_PATTERNS']])]\n",
    "val_id_list   = [i for i in FILES if any([c in i for c in case_config['VAL_PATTERNS']])]\n",
    "test_id_list  = [i for i in FILES if any([c in i for c in case_config['TEST_PATTERNS']])]"
   ]
  }
 ],
 "metadata": {
  "kernelspec": {
   "display_name": "Python 3",
   "language": "python",
   "name": "python3"
  },
  "language_info": {
   "codemirror_mode": {
    "name": "ipython",
    "version": 3
   },
   "file_extension": ".py",
   "mimetype": "text/x-python",
   "name": "python",
   "nbconvert_exporter": "python",
   "pygments_lexer": "ipython3",
   "version": "3.6.5"
  }
 },
 "nbformat": 4,
 "nbformat_minor": 2
}
