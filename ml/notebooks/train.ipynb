{
 "cells": [
  {
   "cell_type": "code",
   "execution_count": 1,
   "metadata": {},
   "outputs": [],
   "source": [
    "import os\n",
    "import sys\n",
    "sys.path.append(os.path.abspath('..'))\n",
    "import random\n",
    "import numpy as np\n",
    "import matplotlib.pyplot as plt\n",
    "from tqdm import tqdm\n",
    "\n",
    "from modules import io\n",
    "from modules import vascular_data as sv\n",
    "from modules.data import get_data"
   ]
  },
  {
   "cell_type": "code",
   "execution_count": 2,
   "metadata": {},
   "outputs": [
    {
     "name": "stdout",
     "output_type": "stream",
     "text": [
      "['/media/marsdenlab/Data2/datasets/vessel_tracking/OSMSC0080/positive/0', '/media/marsdenlab/Data2/datasets/vessel_tracking/OSMSC0080/positive/1']\n"
     ]
    }
   ],
   "source": [
    "g_cfg_fn   = \"../config/global.yaml\"\n",
    "c_cfg_fn   = \"../config/rf_ct.yaml\"\n",
    "\n",
    "global_config = io.load_yaml(g_cfg_fn)\n",
    "case_config   = io.load_yaml(c_cfg_fn)\n",
    "\n",
    "FILES         = io.read_lines(global_config['FILES'])\n",
    "print(FILES[:2])"
   ]
  },
  {
   "cell_type": "code",
   "execution_count": 3,
   "metadata": {},
   "outputs": [],
   "source": [
    "train_pos_list = [i+'.x.npy' for i in FILES if \"positive\" in i and any([c in i for c in case_config['TRAIN_PATTERNS']])]\n",
    "train_neg_list = [i+'.x.npy' for i in FILES if \"negative\" in i and any([c in i for c in case_config['TRAIN_PATTERNS']])]\n",
    "\n",
    "val_pos_list = [i+'.x.npy' for i in FILES if \"positive\" in i and any([c in i for c in case_config['VAL_PATTERNS']])]\n",
    "val_neg_list = [i+'.x.npy' for i in FILES if \"negative\" in i and any([c in i for c in case_config['VAL_PATTERNS']])]\n",
    "\n",
    "test_pos_list = [i+'.x.npy' for i in FILES if \"positive\" in i and any([c in i for c in case_config['TEST_PATTERNS']])]\n",
    "test_neg_list = [i+'.x.npy' for i in FILES if \"negative\" in i and any([c in i for c in case_config['TEST_PATTERNS']])]\n"
   ]
  },
  {
   "cell_type": "code",
   "execution_count": 4,
   "metadata": {},
   "outputs": [
    {
     "name": "stdout",
     "output_type": "stream",
     "text": [
      "['/media/marsdenlab/Data2/datasets/vessel_tracking/OSMSC0002/positive/0.x.npy', '/media/marsdenlab/Data2/datasets/vessel_tracking/OSMSC0002/positive/1.x.npy', '/media/marsdenlab/Data2/datasets/vessel_tracking/OSMSC0002/positive/2.x.npy', '/media/marsdenlab/Data2/datasets/vessel_tracking/OSMSC0002/positive/3.x.npy', '/media/marsdenlab/Data2/datasets/vessel_tracking/OSMSC0002/positive/4.x.npy']\n",
      "['/media/marsdenlab/Data2/datasets/vessel_tracking/OSMSC0002/negative/0.x.npy', '/media/marsdenlab/Data2/datasets/vessel_tracking/OSMSC0002/negative/1.x.npy', '/media/marsdenlab/Data2/datasets/vessel_tracking/OSMSC0002/negative/2.x.npy', '/media/marsdenlab/Data2/datasets/vessel_tracking/OSMSC0002/negative/3.x.npy', '/media/marsdenlab/Data2/datasets/vessel_tracking/OSMSC0002/negative/4.x.npy']\n",
      "21068\n",
      "21543\n",
      "0\n",
      "0\n",
      "3000\n",
      "3006\n"
     ]
    }
   ],
   "source": [
    "print(train_pos_list[:5])\n",
    "print(train_neg_list[:5])\n",
    "\n",
    "print(len(train_pos_list))\n",
    "print(len(train_neg_list))\n",
    "\n",
    "print(len(val_pos_list))\n",
    "print(len(val_neg_list))\n",
    "\n",
    "print(len(test_pos_list))\n",
    "print(len(test_neg_list))"
   ]
  },
  {
   "cell_type": "code",
   "execution_count": 5,
   "metadata": {},
   "outputs": [
    {
     "name": "stderr",
     "output_type": "stream",
     "text": [
      "  0%|          | 0/3000 [00:00<?, ?it/s]\n"
     ]
    },
    {
     "ename": "FileNotFoundError",
     "evalue": "[Errno 2] No such file or directory: '/media/marsdenlab/Data2/datasets/vessel_tracking/OSMSC0172/positive/243'",
     "output_type": "error",
     "traceback": [
      "\u001b[0;31m---------------------------------------------------------------------------\u001b[0m",
      "\u001b[0;31mFileNotFoundError\u001b[0m                         Traceback (most recent call last)",
      "\u001b[0;32m<ipython-input-5-9121c83f987d>\u001b[0m in \u001b[0;36m<module>\u001b[0;34m()\u001b[0m\n\u001b[1;32m      1\u001b[0m \u001b[0mN\u001b[0m \u001b[0;34m=\u001b[0m \u001b[0;36m3000\u001b[0m\u001b[0;34m\u001b[0m\u001b[0m\n\u001b[1;32m      2\u001b[0m \u001b[0;34m\u001b[0m\u001b[0m\n\u001b[0;32m----> 3\u001b[0;31m \u001b[0mdata\u001b[0m      \u001b[0;34m=\u001b[0m \u001b[0mget_data\u001b[0m\u001b[0;34m(\u001b[0m\u001b[0mtrain_pos_list\u001b[0m\u001b[0;34m,\u001b[0m \u001b[0mtrain_neg_list\u001b[0m\u001b[0;34m,\u001b[0m \u001b[0mN\u001b[0m\u001b[0;34m)\u001b[0m\u001b[0;34m\u001b[0m\u001b[0m\n\u001b[0m\u001b[1;32m      4\u001b[0m \u001b[0mtest_data\u001b[0m \u001b[0;34m=\u001b[0m \u001b[0mget_data\u001b[0m\u001b[0;34m(\u001b[0m\u001b[0mtest_pos_list\u001b[0m\u001b[0;34m,\u001b[0m \u001b[0mtest_neg_list\u001b[0m\u001b[0;34m,\u001b[0m \u001b[0mN\u001b[0m\u001b[0;34m)\u001b[0m\u001b[0;34m\u001b[0m\u001b[0m\n\u001b[1;32m      5\u001b[0m \u001b[0;34m\u001b[0m\u001b[0m\n",
      "\u001b[0;32m~/projects/vessel_tracking/ml/modules/data.py\u001b[0m in \u001b[0;36mget_data\u001b[0;34m(pos_list, neg_list, N)\u001b[0m\n\u001b[1;32m     17\u001b[0m         \u001b[0mneg_fn\u001b[0m \u001b[0;34m=\u001b[0m \u001b[0mdata\u001b[0m\u001b[0;34m[\u001b[0m\u001b[0;34m'negative_files'\u001b[0m\u001b[0;34m]\u001b[0m\u001b[0;34m[\u001b[0m\u001b[0mi\u001b[0m\u001b[0;34m]\u001b[0m\u001b[0;34m\u001b[0m\u001b[0m\n\u001b[1;32m     18\u001b[0m \u001b[0;34m\u001b[0m\u001b[0m\n\u001b[0;32m---> 19\u001b[0;31m         \u001b[0mdata\u001b[0m\u001b[0;34m[\u001b[0m\u001b[0;34m'X_positive'\u001b[0m\u001b[0;34m]\u001b[0m\u001b[0;34m.\u001b[0m\u001b[0mappend\u001b[0m\u001b[0;34m(\u001b[0m\u001b[0mnp\u001b[0m\u001b[0;34m.\u001b[0m\u001b[0mload\u001b[0m\u001b[0;34m(\u001b[0m\u001b[0mpos_fn\u001b[0m\u001b[0;34m)\u001b[0m\u001b[0;34m)\u001b[0m\u001b[0;34m\u001b[0m\u001b[0m\n\u001b[0m\u001b[1;32m     20\u001b[0m         \u001b[0mdata\u001b[0m\u001b[0;34m[\u001b[0m\u001b[0;34m'X_negative'\u001b[0m\u001b[0;34m]\u001b[0m\u001b[0;34m.\u001b[0m\u001b[0mappend\u001b[0m\u001b[0;34m(\u001b[0m\u001b[0mnp\u001b[0m\u001b[0;34m.\u001b[0m\u001b[0mload\u001b[0m\u001b[0;34m(\u001b[0m\u001b[0mneg_fn\u001b[0m\u001b[0;34m)\u001b[0m\u001b[0;34m)\u001b[0m\u001b[0;34m\u001b[0m\u001b[0m\n\u001b[1;32m     21\u001b[0m \u001b[0;34m\u001b[0m\u001b[0m\n",
      "\u001b[0;32m~/anaconda3/lib/python3.6/site-packages/numpy/lib/npyio.py\u001b[0m in \u001b[0;36mload\u001b[0;34m(file, mmap_mode, allow_pickle, fix_imports, encoding)\u001b[0m\n\u001b[1;32m    370\u001b[0m     \u001b[0mown_fid\u001b[0m \u001b[0;34m=\u001b[0m \u001b[0;32mFalse\u001b[0m\u001b[0;34m\u001b[0m\u001b[0m\n\u001b[1;32m    371\u001b[0m     \u001b[0;32mif\u001b[0m \u001b[0misinstance\u001b[0m\u001b[0;34m(\u001b[0m\u001b[0mfile\u001b[0m\u001b[0;34m,\u001b[0m \u001b[0mbasestring\u001b[0m\u001b[0;34m)\u001b[0m\u001b[0;34m:\u001b[0m\u001b[0;34m\u001b[0m\u001b[0m\n\u001b[0;32m--> 372\u001b[0;31m         \u001b[0mfid\u001b[0m \u001b[0;34m=\u001b[0m \u001b[0mopen\u001b[0m\u001b[0;34m(\u001b[0m\u001b[0mfile\u001b[0m\u001b[0;34m,\u001b[0m \u001b[0;34m\"rb\"\u001b[0m\u001b[0;34m)\u001b[0m\u001b[0;34m\u001b[0m\u001b[0m\n\u001b[0m\u001b[1;32m    373\u001b[0m         \u001b[0mown_fid\u001b[0m \u001b[0;34m=\u001b[0m \u001b[0;32mTrue\u001b[0m\u001b[0;34m\u001b[0m\u001b[0m\n\u001b[1;32m    374\u001b[0m     \u001b[0;32melif\u001b[0m \u001b[0mis_pathlib_path\u001b[0m\u001b[0;34m(\u001b[0m\u001b[0mfile\u001b[0m\u001b[0;34m)\u001b[0m\u001b[0;34m:\u001b[0m\u001b[0;34m\u001b[0m\u001b[0m\n",
      "\u001b[0;31mFileNotFoundError\u001b[0m: [Errno 2] No such file or directory: '/media/marsdenlab/Data2/datasets/vessel_tracking/OSMSC0172/positive/243'"
     ]
    }
   ],
   "source": [
    "N = 3000\n",
    "\n",
    "data      = get_data(train_pos_list, train_neg_list, N)\n",
    "test_data = get_data(test_pos_list, test_neg_list, N) \n",
    "\n",
    "print(data['X'].shape)\n",
    "print(data['Y'].shape)\n",
    "\n",
    "print(test_data['X'].shape)\n",
    "print(test_data['Y'].shape)"
   ]
  },
  {
   "cell_type": "code",
   "execution_count": 7,
   "metadata": {},
   "outputs": [
    {
     "name": "stderr",
     "output_type": "stream",
     "text": [
      "/home/marsdenlab/anaconda3/lib/python3.6/site-packages/sklearn/linear_model/stochastic_gradient.py:128: FutureWarning: max_iter and tol parameters have been added in <class 'sklearn.linear_model.stochastic_gradient.SGDClassifier'> in 0.19. If both are left unset, they default to max_iter=5 and tol=None. If tol is not None, max_iter defaults to max_iter=1000. From 0.21, default max_iter will be 1000, and default tol will be 1e-3.\n",
      "  \"and default tol will be 1e-3.\" % type(self), FutureWarning)\n"
     ]
    },
    {
     "data": {
      "text/plain": [
       "SGDClassifier(alpha=0.0001, average=False, class_weight=None, epsilon=0.1,\n",
       "       eta0=0.0, fit_intercept=True, l1_ratio=0.15,\n",
       "       learning_rate='optimal', loss='log', max_iter=None, n_iter=None,\n",
       "       n_jobs=1, penalty='l2', power_t=0.5, random_state=None,\n",
       "       shuffle=True, tol=None, verbose=0, warm_start=False)"
      ]
     },
     "execution_count": 7,
     "metadata": {},
     "output_type": "execute_result"
    }
   ],
   "source": [
    "from sklearn.linear_model import SGDClassifier\n",
    "\n",
    "model = SGDClassifier(loss=\"log\")\n",
    "\n",
    "model.fit(data['X'], data['Y'])"
   ]
  },
  {
   "cell_type": "code",
   "execution_count": 8,
   "metadata": {},
   "outputs": [],
   "source": [
    "data['Y_train_pred'] = model.predict(data['X_train'])"
   ]
  },
  {
   "cell_type": "code",
   "execution_count": 9,
   "metadata": {},
   "outputs": [
    {
     "name": "stdout",
     "output_type": "stream",
     "text": [
      "Positive Accuracy: 0.85\n",
      "Negative Accuracy: 0.57\n"
     ]
    }
   ],
   "source": [
    "pos_acc = np.mean(data['Y_train_pred'][:N]*data['Y_train'][:N])\n",
    "neg_acc = np.mean((1-data['Y_train_pred'][N:])*(1-data['Y_train'][N:]))\n",
    "\n",
    "print(\"Positive Accuracy: {:.2f}\".format(pos_acc))\n",
    "print(\"Negative Accuracy: {:.2f}\".format(neg_acc))"
   ]
  },
  {
   "cell_type": "code",
   "execution_count": 26,
   "metadata": {},
   "outputs": [
    {
     "data": {
      "image/png": "[encoded data removed]",
      "text/plain": [
       "<Figure size 432x288 with 2 Axes>"
      ]
     },
     "metadata": {},
     "output_type": "display_data"
    }
   ],
   "source": [
    "id = np.random.randint(2*N)\n",
    "\n",
    "true_label = data['Y_train'][id]\n",
    "pred_label = data['Y_train_pred'][id]\n",
    "x          = data['X_train'][id].reshape((128,128))\n",
    "\n",
    "plt.figure()\n",
    "plt.title(\"Y_true = {:.2f}, Y_pred = {:.2f}\".format(true_label, pred_label))\n",
    "plt.imshow(x, cmap='gray')\n",
    "plt.colorbar()\n",
    "plt.show()"
   ]
  },
  {
   "cell_type": "code",
   "execution_count": null,
   "metadata": {},
   "outputs": [],
   "source": []
  }
 ],
 "metadata": {
  "kernelspec": {
   "display_name": "Python 3",
   "language": "python",
   "name": "python3"
  },
  "language_info": {
   "codemirror_mode": {
    "name": "ipython",
    "version": 3
   },
   "file_extension": ".py",
   "mimetype": "text/x-python",
   "name": "python",
   "nbconvert_exporter": "python",
   "pygments_lexer": "ipython3",
   "version": "3.6.5"
  }
 },
 "nbformat": 4,
 "nbformat_minor": 2
}
