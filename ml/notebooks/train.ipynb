{
 "cells": [
  {
   "cell_type": "code",
   "execution_count": 1,
   "metadata": {},
   "outputs": [],
   "source": [
    "import os\n",
    "import sys\n",
    "sys.path.append(os.path.abspath('..'))\n",
    "import random\n",
    "import numpy as np\n",
    "import matplotlib.pyplot as plt\n",
    "from tqdm import tqdm\n",
    "\n",
    "from modules import io\n",
    "from modules import vascular_data as sv\n",
    "from modules.data import get_data"
   ]
  },
  {
   "cell_type": "code",
   "execution_count": 2,
   "metadata": {},
   "outputs": [
    {
     "name": "stdout",
     "output_type": "stream",
     "text": [
      "['/media/marsdenlab/Data2/datasets/vessel_tracking/OSMSC0080/positive/0', '/media/marsdenlab/Data2/datasets/vessel_tracking/OSMSC0080/positive/1']\n"
     ]
    }
   ],
   "source": [
    "g_cfg_fn   = \"../config/global.yaml\"\n",
    "c_cfg_fn   = \"../config/rf_ct.yaml\"\n",
    "\n",
    "global_config = io.load_yaml(g_cfg_fn)\n",
    "case_config   = io.load_yaml(c_cfg_fn)\n",
    "\n",
    "FILES         = io.read_lines(global_config['FILES'])\n",
    "print(FILES[:2])"
   ]
  },
  {
   "cell_type": "code",
   "execution_count": 3,
   "metadata": {},
   "outputs": [],
   "source": [
    "train_pos_list = [i+'.x.npy' for i in FILES if \"positive\" in i and any([c in i for c in case_config['TRAIN_PATTERNS']])]\n",
    "train_neg_list = [i+'.x.npy' for i in FILES if \"negative\" in i and any([c in i for c in case_config['TRAIN_PATTERNS']])]\n",
    "\n",
    "val_pos_list = [i+'.x.npy' for i in FILES if \"positive\" in i and any([c in i for c in case_config['VAL_PATTERNS']])]\n",
    "val_neg_list = [i+'.x.npy' for i in FILES if \"negative\" in i and any([c in i for c in case_config['VAL_PATTERNS']])]\n",
    "\n",
    "test_pos_list = [i+'.x.npy' for i in FILES if \"positive\" in i and any([c in i for c in case_config['TEST_PATTERNS']])]\n",
    "test_neg_list = [i+'.x.npy' for i in FILES if \"negative\" in i and any([c in i for c in case_config['TEST_PATTERNS']])]\n"
   ]
  },
  {
   "cell_type": "code",
   "execution_count": 4,
   "metadata": {},
   "outputs": [
    {
     "name": "stdout",
     "output_type": "stream",
     "text": [
      "['/media/marsdenlab/Data2/datasets/vessel_tracking/OSMSC0002/positive/0.x.npy', '/media/marsdenlab/Data2/datasets/vessel_tracking/OSMSC0002/positive/1.x.npy', '/media/marsdenlab/Data2/datasets/vessel_tracking/OSMSC0002/positive/2.x.npy', '/media/marsdenlab/Data2/datasets/vessel_tracking/OSMSC0002/positive/3.x.npy', '/media/marsdenlab/Data2/datasets/vessel_tracking/OSMSC0002/positive/4.x.npy']\n",
      "['/media/marsdenlab/Data2/datasets/vessel_tracking/OSMSC0002/negative/0.x.npy', '/media/marsdenlab/Data2/datasets/vessel_tracking/OSMSC0002/negative/1.x.npy', '/media/marsdenlab/Data2/datasets/vessel_tracking/OSMSC0002/negative/2.x.npy', '/media/marsdenlab/Data2/datasets/vessel_tracking/OSMSC0002/negative/3.x.npy', '/media/marsdenlab/Data2/datasets/vessel_tracking/OSMSC0002/negative/4.x.npy']\n",
      "21068\n",
      "21543\n",
      "0\n",
      "0\n",
      "3000\n",
      "3006\n"
     ]
    }
   ],
   "source": [
    "print(train_pos_list[:5])\n",
    "print(train_neg_list[:5])\n",
    "\n",
    "print(len(train_pos_list))\n",
    "print(len(train_neg_list))\n",
    "\n",
    "print(len(val_pos_list))\n",
    "print(len(val_neg_list))\n",
    "\n",
    "print(len(test_pos_list))\n",
    "print(len(test_neg_list))"
   ]
  },
  {
   "cell_type": "code",
   "execution_count": 5,
   "metadata": {},
   "outputs": [
    {
     "name": "stderr",
     "output_type": "stream",
     "text": [
      "100%|██████████| 3000/3000 [00:16<00:00, 179.22it/s]\n",
      "100%|██████████| 3000/3000 [00:01<00:00, 2148.21it/s]\n"
     ]
    },
    {
     "name": "stdout",
     "output_type": "stream",
     "text": [
      "(6000, 16384)\n",
      "(6000,)\n",
      "(6000, 16384)\n",
      "(6000,)\n"
     ]
    }
   ],
   "source": [
    "N = 3000\n",
    "\n",
    "data      = get_data(train_pos_list, train_neg_list, N)\n",
    "test_data = get_data(test_pos_list, test_neg_list, N) \n",
    "\n",
    "print(data['X'].shape)\n",
    "print(data['Y'].shape)\n",
    "\n",
    "print(test_data['X'].shape)\n",
    "print(test_data['Y'].shape)"
   ]
  },
  {
   "cell_type": "code",
   "execution_count": 6,
   "metadata": {},
   "outputs": [],
   "source": [
    "m              = np.mean(data['X'],axis=1)[:,np.newaxis]\n",
    "s              = np.std(data['X'],axis=1)[:,np.newaxis]+1e-3\n",
    "data['X_norm'] = (1.0*data['X']-m)/s\n",
    "\n",
    "m                   = np.mean(test_data['X'],axis=1)[:,np.newaxis]\n",
    "s                   = np.std(test_data['X'],axis=1)[:,np.newaxis]+1e-3\n",
    "test_data['X_norm'] = (1.0*test_data['X']-m)/s"
   ]
  },
  {
   "cell_type": "code",
   "execution_count": 7,
   "metadata": {},
   "outputs": [
    {
     "data": {
      "text/plain": [
       "RandomForestClassifier(bootstrap=True, class_weight=None, criterion='gini',\n",
       "            max_depth=None, max_features='auto', max_leaf_nodes=None,\n",
       "            min_impurity_decrease=0.0, min_impurity_split=None,\n",
       "            min_samples_leaf=1, min_samples_split=2,\n",
       "            min_weight_fraction_leaf=0.0, n_estimators=100, n_jobs=1,\n",
       "            oob_score=False, random_state=None, verbose=0,\n",
       "            warm_start=False)"
      ]
     },
     "execution_count": 7,
     "metadata": {},
     "output_type": "execute_result"
    }
   ],
   "source": [
    "from sklearn.linear_model import SGDClassifier\n",
    "from sklearn.ensemble import RandomForestClassifier\n",
    "#model = SGDClassifier(loss=\"log\")\n",
    "\n",
    "model = RandomForestClassifier(n_estimators=100)\n",
    "\n",
    "model.fit(data['X_norm'], data['Y'])"
   ]
  },
  {
   "cell_type": "code",
   "execution_count": 8,
   "metadata": {},
   "outputs": [],
   "source": [
    "test_data['Y_pred'] = model.predict(test_data['X_norm'])"
   ]
  },
  {
   "cell_type": "code",
   "execution_count": 9,
   "metadata": {},
   "outputs": [
    {
     "name": "stdout",
     "output_type": "stream",
     "text": [
      "Positive Accuracy: 0.91\n",
      "Negative Accuracy: 0.85\n"
     ]
    }
   ],
   "source": [
    "pos_acc = np.mean(test_data['Y_pred'][:N]*test_data['Y'][:N])\n",
    "neg_acc = np.mean((1-test_data['Y_pred'][N:])*(1-test_data['Y'][N:]))\n",
    "\n",
    "print(\"Positive Accuracy: {:.2f}\".format(pos_acc))\n",
    "print(\"Negative Accuracy: {:.2f}\".format(neg_acc))"
   ]
  },
  {
   "cell_type": "code",
   "execution_count": 21,
   "metadata": {},
   "outputs": [
    {
     "data": {
      "image/png": "[encoded data removed]",
      "text/plain": [
       "<Figure size 432x288 with 2 Axes>"
      ]
     },
     "metadata": {},
     "output_type": "display_data"
    }
   ],
   "source": [
    "id = np.random.randint(2*N)\n",
    "\n",
    "true_label = test_data['Y'][id]\n",
    "pred_label = test_data['Y_pred'][id]\n",
    "x          = test_data['X_norm'][id].reshape((128,128))\n",
    "\n",
    "plt.figure()\n",
    "plt.title(\"Y_true = {:.2f}, Y_pred = {:.2f}\".format(true_label, pred_label))\n",
    "plt.imshow(x, cmap='gray')\n",
    "plt.colorbar()\n",
    "plt.show()"
   ]
  },
  {
   "cell_type": "code",
   "execution_count": null,
   "metadata": {},
   "outputs": [],
   "source": []
  }
 ],
 "metadata": {
  "kernelspec": {
   "display_name": "Python 3",
   "language": "python",
   "name": "python3"
  },
  "language_info": {
   "codemirror_mode": {
    "name": "ipython",
    "version": 3
   },
   "file_extension": ".py",
   "mimetype": "text/x-python",
   "name": "python",
   "nbconvert_exporter": "python",
   "pygments_lexer": "ipython3",
   "version": "3.6.5"
  }
 },
 "nbformat": 4,
 "nbformat_minor": 2
}
